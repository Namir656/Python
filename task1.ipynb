{
 "cells": [
  {
   "cell_type": "code",
   "execution_count": 6,
   "id": "a19aeffe",
   "metadata": {},
   "outputs": [
    {
     "name": "stdout",
     "output_type": "stream",
     "text": [
      "Enter First Number 56\n",
      "Enter Second Number 78\n",
      "The Largest Number is 78\n"
     ]
    }
   ],
   "source": [
    "num1=int(input(\"Enter First Number \"))\n",
    "num2=int(input(\"Enter Second Number \"))\n",
    "\n",
    "if num1 > num2:\n",
    " print(\"The Largest Number is\",num1)\n",
    "\n",
    "else:\n",
    " print(\"The Largest Number is\",num2)"
   ]
  },
  {
   "cell_type": "code",
   "execution_count": null,
   "id": "59bebce2",
   "metadata": {},
   "outputs": [],
   "source": []
  },
  {
   "cell_type": "code",
   "execution_count": null,
   "id": "ea36c43c",
   "metadata": {},
   "outputs": [],
   "source": []
  }
 ],
 "metadata": {
  "kernelspec": {
   "display_name": "Python 3 (ipykernel)",
   "language": "python",
   "name": "python3"
  },
  "language_info": {
   "codemirror_mode": {
    "name": "ipython",
    "version": 3
   },
   "file_extension": ".py",
   "mimetype": "text/x-python",
   "name": "python",
   "nbconvert_exporter": "python",
   "pygments_lexer": "ipython3",
   "version": "3.10.9"
  }
 },
 "nbformat": 4,
 "nbformat_minor": 5
}
